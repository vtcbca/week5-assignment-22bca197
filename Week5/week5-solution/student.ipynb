{
 "cells": [
  {
   "cell_type": "code",
   "execution_count": 1,
   "id": "c66257f1",
   "metadata": {},
   "outputs": [],
   "source": [
    "import csv"
   ]
  },
  {
   "cell_type": "code",
   "execution_count": 2,
   "id": "64b25d86",
   "metadata": {},
   "outputs": [],
   "source": [
    "f=['sid','sname','city','contect']"
   ]
  },
  {
   "cell_type": "code",
   "execution_count": 3,
   "id": "d0d30332",
   "metadata": {},
   "outputs": [],
   "source": [
    "records=[[1,'Payal','Bardoli',1234567890],\n",
    "         [2,'Jay','Surat',9987654321],\n",
    "         [3,'Bhumi','Vyara',112233445],\n",
    "         [4,'Mahira','Navsari',566778899],\n",
    "         [5,'Krupa','Vapi',119384758]]"
   ]
  },
  {
   "cell_type": "code",
   "execution_count": 4,
   "id": "4201e813",
   "metadata": {},
   "outputs": [],
   "source": [
    "l=[]"
   ]
  },
  {
   "cell_type": "code",
   "execution_count": 5,
   "id": "fb760a61",
   "metadata": {},
   "outputs": [
    {
     "name": "stdout",
     "output_type": "stream",
     "text": [
      "Enter Student Id:6\n",
      "Enter Student Name:Karan\n",
      "Enter Student's City:Surat\n",
      "Enter Student Contect Number:9632587521\n",
      "Enter Student Id:7\n",
      "Enter Student Name:Preeti\n",
      "Enter Student's City:Vyara\n",
      "Enter Student Contect Number:4751329831\n",
      "Enter Student Id:8\n",
      "Enter Student Name:Janvi\n",
      "Enter Student's City:Bajipura\n",
      "Enter Student Contect Number:2793158060\n",
      "Enter Student Id:9\n",
      "Enter Student Name:Aarti\n",
      "Enter Student's City:Kamrej\n",
      "Enter Student Contect Number:7519354823\n",
      "Enter Student Id:10\n",
      "Enter Student Name:Chadani\n",
      "Enter Student's City:Navsari\n",
      "Enter Student Contect Number:7896541235\n"
     ]
    }
   ],
   "source": [
    "for i in range(5):\n",
    "    sid=int(input(\"Enter Student Id:\"))\n",
    "    sname=input(\"Enter Student Name:\")\n",
    "    city=input(\"Enter Student's City:\")\n",
    "    contect=int(input(\"Enter Student Contect Number:\"))\n",
    "    li=[sid,sname,city,contect]\n",
    "    l.append(li)"
   ]
  },
  {
   "cell_type": "code",
   "execution_count": 6,
   "id": "b8c1e534",
   "metadata": {},
   "outputs": [],
   "source": [
    "with open('student.csv','w',newline='')as csvfile:\n",
    "    file=csv.writer(csvfile)\n",
    "    file.writerow(f)\n",
    "    file.writerows(records)\n",
    "    file.writerows(l)"
   ]
  },
  {
   "cell_type": "code",
   "execution_count": 7,
   "id": "4c23e676",
   "metadata": {},
   "outputs": [
    {
     "name": "stdout",
     "output_type": "stream",
     "text": [
      "['sid', 'sname', 'city', 'contect']\n",
      "['1', 'Payal', 'Bardoli', '1234567890']\n",
      "['2', 'Jay', 'Surat', '9987654321']\n",
      "['3', 'Bhumi', 'Vyara', '112233445']\n",
      "['4', 'Mahira', 'Navsari', '566778899']\n",
      "['5', 'Krupa', 'Vapi', '119384758']\n",
      "['6', 'Karan', 'Surat', '9632587521']\n",
      "['7', 'Preeti', 'Vyara', '4751329831']\n",
      "['8', 'Janvi', 'Bajipura', '2793158060']\n",
      "['9', 'Aarti', 'Kamrej', '7519354823']\n",
      "['10', 'Chadani', 'Navsari', '7896541235']\n"
     ]
    }
   ],
   "source": [
    "with open('student.csv','r')as file:\n",
    "    read_file=csv.reader(file)\n",
    "    for records in read_file:\n",
    "        print(records)"
   ]
  },
  {
   "cell_type": "code",
   "execution_count": null,
   "id": "f2ec5b8b",
   "metadata": {},
   "outputs": [],
   "source": []
  }
 ],
 "metadata": {
  "kernelspec": {
   "display_name": "Python 3 (ipykernel)",
   "language": "python",
   "name": "python3"
  },
  "language_info": {
   "codemirror_mode": {
    "name": "ipython",
    "version": 3
   },
   "file_extension": ".py",
   "mimetype": "text/x-python",
   "name": "python",
   "nbconvert_exporter": "python",
   "pygments_lexer": "ipython3",
   "version": "3.9.6"
  }
 },
 "nbformat": 4,
 "nbformat_minor": 5
}
